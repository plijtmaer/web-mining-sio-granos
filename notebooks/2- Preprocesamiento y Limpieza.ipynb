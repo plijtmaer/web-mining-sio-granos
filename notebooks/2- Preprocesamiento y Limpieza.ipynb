{
  "cells": [
    {
      "cell_type": "markdown",
      "metadata": {},
      "source": [
        "# Preprocesamiento y Limpieza de Datos\n",
        "\n",
        "El objetivo es transformar los archivos JSON en CSV limpios para analisis posterior.\n"
      ]
    },
    {
      "cell_type": "markdown",
      "metadata": {},
      "source": [
        "## Importar librerías\n"
      ]
    },
    {
      "cell_type": "code",
      "execution_count": 14,
      "metadata": {},
      "outputs": [],
      "source": [
        "import pandas as pd\n",
        "import json\n",
        "import os\n",
        "import glob"
      ]
    },
    {
      "cell_type": "markdown",
      "metadata": {},
      "source": [
        "## Exploración\n",
        "\n",
        "Explorar estructura de un JSON:\n"
      ]
    },
    {
      "cell_type": "code",
      "execution_count": 2,
      "metadata": {},
      "outputs": [
        {
          "name": "stdout",
          "output_type": "stream",
          "text": [
            "Archivo leido: ../data/raw/operaciones_semana_2025-06-01_2025-06-06.json\n",
            "Claves principales: ['success', 'message', 'result']\n"
          ]
        }
      ],
      "source": [
        "# Leer un archivo JSON\n",
        "archivo = '../data/raw/operaciones_semana_2025-06-01_2025-06-06.json'\n",
        "\n",
        "with open(archivo, 'r', encoding='utf-8') as f:\n",
        "    datos = json.load(f)\n",
        "\n",
        "print(f\"Archivo leido: {archivo}\")\n",
        "print(f\"Claves principales: {list(datos.keys())}\")\n"
      ]
    },
    {
      "cell_type": "markdown",
      "metadata": {},
      "source": [
        "### Extraer las operaciones\n",
        "\n",
        "Las operaciones estan dentro de datos['result']['operaciones']\n"
      ]
    },
    {
      "cell_type": "code",
      "execution_count": 3,
      "metadata": {},
      "outputs": [
        {
          "name": "stdout",
          "output_type": "stream",
          "text": [
            "Total de operaciones: 720\n",
            "Tipo de dato: <class 'list'>\n"
          ]
        }
      ],
      "source": [
        "# Extraer las operaciones\n",
        "operaciones = datos['result']['operaciones']\n",
        "\n",
        "print(f\"Total de operaciones: {len(operaciones)}\")\n",
        "print(f\"Tipo de dato: {type(operaciones)}\")\n"
      ]
    },
    {
      "cell_type": "markdown",
      "metadata": {},
      "source": [
        "### Convertir a DataFrame\n",
        "\n",
        "Convertir la lista de operaciones a un DataFrame de pandas\n"
      ]
    },
    {
      "cell_type": "code",
      "execution_count": 4,
      "metadata": {},
      "outputs": [
        {
          "name": "stdout",
          "output_type": "stream",
          "text": [
            "Dimensiones del DataFrame: (720, 22)\n",
            "Columnas: ['fechaOperacion', 'fechaConcertacion', 'tipoOperacion', 'tipoModalidad', 'tipoOiv', 'grano', 'volumenTN', 'condicionCalidad', 'condicionCalidadAuxiliar', 'procedenciaProvincia', 'procedenciaLocalidad', 'simboloPrecioPorTN', 'precioTN', 'lugarEntrega', 'fechaEntregaDesde', 'fechaEntregaHasta', 'condicionPago', 'esDestinoFinal', 'cosecha', 'numeroOperacionInstancia', 'nroOperacion', 'esUltimaInstancia']\n"
          ]
        }
      ],
      "source": [
        "# Convertir lista de diccionarios a DataFrame\n",
        "df = pd.DataFrame(operaciones)\n",
        "\n",
        "print(f\"Dimensiones del DataFrame: {df.shape}\")\n",
        "print(f\"Columnas: {df.columns.tolist()}\")\n"
      ]
    },
    {
      "cell_type": "markdown",
      "metadata": {},
      "source": [
        "### Ver las primeras filas"
      ]
    },
    {
      "cell_type": "code",
      "execution_count": 11,
      "metadata": {},
      "outputs": [
        {
          "data": {
            "text/html": [
              "<div>\n",
              "<style scoped>\n",
              "    .dataframe tbody tr th:only-of-type {\n",
              "        vertical-align: middle;\n",
              "    }\n",
              "\n",
              "    .dataframe tbody tr th {\n",
              "        vertical-align: top;\n",
              "    }\n",
              "\n",
              "    .dataframe thead th {\n",
              "        text-align: right;\n",
              "    }\n",
              "</style>\n",
              "<table border=\"1\" class=\"dataframe\">\n",
              "  <thead>\n",
              "    <tr style=\"text-align: right;\">\n",
              "      <th></th>\n",
              "      <th>fechaOperacion</th>\n",
              "      <th>fechaConcertacion</th>\n",
              "      <th>tipoOperacion</th>\n",
              "      <th>tipoModalidad</th>\n",
              "      <th>tipoOiv</th>\n",
              "      <th>grano</th>\n",
              "      <th>volumenTN</th>\n",
              "      <th>condicionCalidad</th>\n",
              "      <th>condicionCalidadAuxiliar</th>\n",
              "      <th>procedenciaProvincia</th>\n",
              "      <th>...</th>\n",
              "      <th>precioTN</th>\n",
              "      <th>lugarEntrega</th>\n",
              "      <th>fechaEntregaDesde</th>\n",
              "      <th>fechaEntregaHasta</th>\n",
              "      <th>condicionPago</th>\n",
              "      <th>esDestinoFinal</th>\n",
              "      <th>cosecha</th>\n",
              "      <th>numeroOperacionInstancia</th>\n",
              "      <th>nroOperacion</th>\n",
              "      <th>esUltimaInstancia</th>\n",
              "    </tr>\n",
              "  </thead>\n",
              "  <tbody>\n",
              "    <tr>\n",
              "      <th>0</th>\n",
              "      <td>2025-06-03T12:59:42.993</td>\n",
              "      <td>2025-05-09T00:00:00</td>\n",
              "      <td>Fijación</td>\n",
              "      <td>Compraventa</td>\n",
              "      <td>Fijar Precio/Prec. Cam.</td>\n",
              "      <td>MAIZ</td>\n",
              "      <td>250.00</td>\n",
              "      <td>Cámara</td>\n",
              "      <td></td>\n",
              "      <td>SANTA FE</td>\n",
              "      <td>...</td>\n",
              "      <td>205000.00</td>\n",
              "      <td>Rosario S/En destino</td>\n",
              "      <td>2025-05-09T00:00:00</td>\n",
              "      <td>2025-05-20T00:00:00</td>\n",
              "      <td>A plazo</td>\n",
              "      <td>SI</td>\n",
              "      <td>COSECHA 24/25</td>\n",
              "      <td>3</td>\n",
              "      <td>2118370255</td>\n",
              "      <td>Si</td>\n",
              "    </tr>\n",
              "    <tr>\n",
              "      <th>1</th>\n",
              "      <td>2025-06-03T12:59:42.853</td>\n",
              "      <td>2025-02-25T00:00:00</td>\n",
              "      <td>Fijación</td>\n",
              "      <td>Compraventa</td>\n",
              "      <td>Fijar Precio/Mercado Comprador</td>\n",
              "      <td>SOJA</td>\n",
              "      <td>1500.00</td>\n",
              "      <td>Fábrica</td>\n",
              "      <td></td>\n",
              "      <td>SANTA FE</td>\n",
              "      <td>...</td>\n",
              "      <td>325000.00</td>\n",
              "      <td>Rosario N/En destino</td>\n",
              "      <td>2025-04-01T00:00:00</td>\n",
              "      <td>2025-04-30T00:00:00</td>\n",
              "      <td>A plazo</td>\n",
              "      <td>SI</td>\n",
              "      <td>COSECHA 24/25</td>\n",
              "      <td>4</td>\n",
              "      <td>906230259</td>\n",
              "      <td>Si</td>\n",
              "    </tr>\n",
              "    <tr>\n",
              "      <th>2</th>\n",
              "      <td>2025-06-03T12:59:42.697</td>\n",
              "      <td>2025-01-30T00:00:00</td>\n",
              "      <td>Fijación</td>\n",
              "      <td>Compraventa</td>\n",
              "      <td>Fijar Precio/Prec. Cam.</td>\n",
              "      <td>TRIGO PAN</td>\n",
              "      <td>49.00</td>\n",
              "      <td>Art. 12</td>\n",
              "      <td></td>\n",
              "      <td>CÓRDOBA</td>\n",
              "      <td>...</td>\n",
              "      <td>235800.00</td>\n",
              "      <td>Zona 9/En destino</td>\n",
              "      <td>2025-01-30T00:00:00</td>\n",
              "      <td>2025-02-28T00:00:00</td>\n",
              "      <td>A plazo</td>\n",
              "      <td>SI</td>\n",
              "      <td>COSECHA 24/25</td>\n",
              "      <td>10</td>\n",
              "      <td>540960259</td>\n",
              "      <td>Si</td>\n",
              "    </tr>\n",
              "  </tbody>\n",
              "</table>\n",
              "<p>3 rows × 22 columns</p>\n",
              "</div>"
            ],
            "text/plain": [
              "            fechaOperacion    fechaConcertacion tipoOperacion tipoModalidad  \\\n",
              "0  2025-06-03T12:59:42.993  2025-05-09T00:00:00      Fijación   Compraventa   \n",
              "1  2025-06-03T12:59:42.853  2025-02-25T00:00:00      Fijación   Compraventa   \n",
              "2  2025-06-03T12:59:42.697  2025-01-30T00:00:00      Fijación   Compraventa   \n",
              "\n",
              "                          tipoOiv      grano volumenTN condicionCalidad  \\\n",
              "0         Fijar Precio/Prec. Cam.       MAIZ    250.00           Cámara   \n",
              "1  Fijar Precio/Mercado Comprador       SOJA   1500.00          Fábrica   \n",
              "2         Fijar Precio/Prec. Cam.  TRIGO PAN     49.00          Art. 12   \n",
              "\n",
              "  condicionCalidadAuxiliar procedenciaProvincia  ...   precioTN  \\\n",
              "0                                      SANTA FE  ...  205000.00   \n",
              "1                                      SANTA FE  ...  325000.00   \n",
              "2                                       CÓRDOBA  ...  235800.00   \n",
              "\n",
              "           lugarEntrega    fechaEntregaDesde    fechaEntregaHasta  \\\n",
              "0  Rosario S/En destino  2025-05-09T00:00:00  2025-05-20T00:00:00   \n",
              "1  Rosario N/En destino  2025-04-01T00:00:00  2025-04-30T00:00:00   \n",
              "2     Zona 9/En destino  2025-01-30T00:00:00  2025-02-28T00:00:00   \n",
              "\n",
              "  condicionPago esDestinoFinal        cosecha numeroOperacionInstancia  \\\n",
              "0       A plazo             SI  COSECHA 24/25                        3   \n",
              "1       A plazo             SI  COSECHA 24/25                        4   \n",
              "2       A plazo             SI  COSECHA 24/25                       10   \n",
              "\n",
              "  nroOperacion esUltimaInstancia  \n",
              "0   2118370255                Si  \n",
              "1    906230259                Si  \n",
              "2    540960259                Si  \n",
              "\n",
              "[3 rows x 22 columns]"
            ]
          },
          "execution_count": 11,
          "metadata": {},
          "output_type": "execute_result"
        }
      ],
      "source": [
        "# Ver las primeras 3 filas\n",
        "df.head(3)\n"
      ]
    },
    {
      "cell_type": "markdown",
      "metadata": {},
      "source": [
        "## Procesar todos los archivos JSON y exportar como CSV"
      ]
    },
    {
      "cell_type": "code",
      "execution_count": 15,
      "metadata": {},
      "outputs": [
        {
          "name": "stdout",
          "output_type": "stream",
          "text": [
            "Archivos JSON encontrados: 6\n",
            "\n",
            "operaciones_semana_2025-05-11_2025-05-17.csv: 2164 operaciones\n",
            "operaciones_semana_2025-05-25_2025-05-31.csv: 2243 operaciones\n",
            "operaciones_semana_2025-06-01_2025-06-06.csv: 720 operaciones\n",
            "operaciones_semana_2025-04-27_2025-05-03.csv: 1478 operaciones\n",
            "operaciones_semana_2025-05-04_2025-05-10.csv: 2144 operaciones\n",
            "operaciones_semana_2025-05-18_2025-05-24.csv: 2261 operaciones\n"
          ]
        }
      ],
      "source": [
        "# Obtener todos los archivos JSON de raw/\n",
        "archivos_json = glob.glob('../data/raw/*.json')\n",
        "\n",
        "print(f\"Archivos JSON encontrados: {len(archivos_json)}\\n\")\n",
        "\n",
        "# Procesar cada archivo\n",
        "for archivo in archivos_json:\n",
        "    # Leer JSON\n",
        "    with open(archivo, 'r', encoding='utf-8') as f:\n",
        "        datos = json.load(f)\n",
        "    \n",
        "    # Convertir a DataFrame\n",
        "    operaciones = datos['result']['operaciones']\n",
        "    df = pd.DataFrame(operaciones)\n",
        "    \n",
        "    # Crear nombre del CSV\n",
        "    nombre_base = os.path.basename(archivo).replace('.json', '.csv')\n",
        "    ruta_csv = f'../data/staging/{nombre_base}'\n",
        "    \n",
        "    # Exportar\n",
        "    df.to_csv(ruta_csv, index=False, encoding='utf-8')\n",
        "    \n",
        "    print(f\"{nombre_base}: {len(df)} operaciones\")\n"
      ]
    },
    {
      "cell_type": "code",
      "execution_count": null,
      "metadata": {},
      "outputs": [],
      "source": []
    }
  ],
  "metadata": {
    "kernelspec": {
      "display_name": ".venv",
      "language": "python",
      "name": "python3"
    },
    "language_info": {
      "codemirror_mode": {
        "name": "ipython",
        "version": 3
      },
      "file_extension": ".py",
      "mimetype": "text/x-python",
      "name": "python",
      "nbconvert_exporter": "python",
      "pygments_lexer": "ipython3",
      "version": "3.11.13"
    }
  },
  "nbformat": 4,
  "nbformat_minor": 2
}
