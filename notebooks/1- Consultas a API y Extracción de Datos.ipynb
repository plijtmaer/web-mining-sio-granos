{
  "cells": [
    {
      "cell_type": "markdown",
      "metadata": {},
      "source": [
        "# 🌾 Consultas y Extracción de Datos de API Pública \n",
        "\n",
        "\n",
        "**Endpoint Principal:**\n",
        "- URL Testing: `https://test.bc.org.ar/SiogranosAPI/api/ConsultaPublica/consultarOperaciones`\n",
        "- Método: GET\n"
      ]
    },
    {
      "cell_type": "markdown",
      "metadata": {},
      "source": [
        "## Importar librerías"
      ]
    },
    {
      "cell_type": "code",
      "execution_count": 2,
      "metadata": {},
      "outputs": [],
      "source": [
        "import requests\n",
        "import json"
      ]
    },
    {
      "cell_type": "markdown",
      "metadata": {},
      "source": [
        "## Consultas a la API y Experimentación"
      ]
    },
    {
      "cell_type": "markdown",
      "metadata": {},
      "source": [
        "### Prueba simple del endpoint\n",
        "\n",
        "Consulta básica con un rango de fechas pequeño\n"
      ]
    },
    {
      "cell_type": "code",
      "execution_count": 3,
      "metadata": {},
      "outputs": [
        {
          "name": "stdout",
          "output_type": "stream",
          "text": [
            "URL: https://test.bc.org.ar/SiogranosAPI/api/ConsultaPublica/consultarOperaciones\n",
            "Parámetros: {'FechaOperacionDesde': '2025-06-01', 'FechaOperacionHasta': '2025-06-01'}\n",
            "\n",
            "Status Code: 403\n",
            "Tamaño de respuesta: 7355 bytes\n"
          ]
        }
      ],
      "source": [
        "# URL base del endpoint\n",
        "url = \"https://test.bc.org.ar/SiogranosAPI/api/ConsultaPublica/consultarOperaciones\"\n",
        "\n",
        "# Parámetros mínimos: consultar operaciones de un solo día\n",
        "params = {\n",
        "    'FechaOperacionDesde': '2025-06-01',\n",
        "    'FechaOperacionHasta': '2025-06-01'\n",
        "}\n",
        "\n",
        "print(f\"URL: {url}\")\n",
        "print(f\"Parámetros: {params}\")\n",
        "print()\n",
        "\n",
        "# Hacer la petición\n",
        "response = requests.get(url, params=params)\n",
        "\n",
        "# Ver el resultado\n",
        "print(f\"Status Code: {response.status_code}\")\n",
        "print(f\"Tamaño de respuesta: {len(response.content)} bytes\")\n"
      ]
    },
    {
      "cell_type": "markdown",
      "metadata": {},
      "source": [
        "Un 403 significa \"Forbidden\" (prohibido), pero tiene contenido."
      ]
    },
    {
      "cell_type": "code",
      "execution_count": 9,
      "metadata": {},
      "outputs": [
        {
          "name": "stdout",
          "output_type": "stream",
          "text": [
            "Contenido de la respuesta:\n",
            "<!DOCTYPE html><html lang=\"en-US\"><head><title>Just a moment...</title><meta http-equiv=\"Content-Type\" content=\"text/html; charset=UTF-8\"><meta http-equiv=\"X-UA-Compatible\" content=\"IE=Edge\"><meta name=\"robots\" content=\"noindex,nofollow\"><meta name=\"viewport\" content=\"width=device-width,initial-scale=1\"><style>*{box-sizing:border-box;margin:0;padding:0}html{line-height:1.15;-webkit-text-size-adjust:100%;color:#313131;font-family:system-ui,-apple-system,BlinkMacSystemFont,\"Segoe UI\",Roboto,\"Helvetica Neue\",Arial,\"Noto Sans\",sans-serif,\"Apple Color Emoji\",\"Segoe UI Emoji\",\"Segoe UI Symbol\",\"Noto Color Emoji\"}body{display:flex;flex-direction:column;height:100vh;min-height:100vh}.main-content{margin:8rem auto;padding-left:1.5rem;max-width:60rem}@media (width <= 720px){.main-content{margin-top:4rem}}.h2{line-height:2.25rem;font-size:1.5rem;font-weight:500}@media (width <= 720px){.h2{line-height:1.5rem;font-size:1.25rem}}#challenge-error-text{background-image:url(\"data:image/svg+xml;base64,P\n",
            "\n",
            "---\n",
            "\n",
            "Headers importantes de la respuesta:\n",
            "  Content-Type: text/html; charset=UTF-8\n",
            "  Server: cloudflare\n"
          ]
        }
      ],
      "source": [
        "# Ver el contenido de la respuesta\n",
        "print(\"Contenido de la respuesta:\")\n",
        "print(response.text[:1000])  # Primeros 1000 caracteres\n",
        "print(\"\\n---\")\n",
        "\n",
        "# Ver los headers de la respuesta (pueden dar pistas)\n",
        "print(\"\\nHeaders importantes de la respuesta:\")\n",
        "for header in ['Content-Type', 'Server', 'WWW-Authenticate']:\n",
        "    if header in response.headers:\n",
        "        print(f\"  {header}: {response.headers[header]}\")\n"
      ]
    },
    {
      "cell_type": "markdown",
      "metadata": {},
      "source": [
        "### Intento con headers de navegador real\n",
        "\n",
        "El problema es que Cloudflare detecta que somos un bot. Vamos a agregar headers más completos para simular un navegador:\n"
      ]
    },
    {
      "cell_type": "code",
      "execution_count": 10,
      "metadata": {},
      "outputs": [
        {
          "name": "stdout",
          "output_type": "stream",
          "text": [
            "Status Code: 403\n",
            "Tamaño de respuesta: 4768 bytes\n",
            "Todavía 403\n",
            "Contenido: \u0013�\u001d\u0000d��Z���s�wnmL���g�&J\u0015E\u0012$9^)}�\\��\u0019��d�F��\u0000���\u0002�\"P�R����H�\\\u001d�����բ�VV�>��\u001dN�jt$�����ʦ�\u001a�j��Kܼ���O�pS�kʧ*�)��t�O���\u0001\u0000@E�\u0004\u001a\t�i����Na�\u000fc<}� �\u0003��6�\u001a(��l��\u0002\u0007��u����bM;i~�[�6��B��\u001a� ���\u001c�Z���?�A��Я�oh��\n"
          ]
        }
      ],
      "source": [
        "# Headers más completos simulando un navegador Chrome\n",
        "headers = {\n",
        "    'User-Agent': 'Mozilla/5.0 (Macintosh; Intel Mac OS X 10_15_7) AppleWebKit/537.36 (KHTML, like Gecko) Chrome/120.0.0.0 Safari/537.36',\n",
        "    'Accept': 'application/json, text/plain, */*',\n",
        "    'Accept-Language': 'es-ES,es;q=0.9,en;q=0.8',\n",
        "    'Accept-Encoding': 'gzip, deflate, br',\n",
        "    'Referer': 'https://test.bc.org.ar/',\n",
        "    'Origin': 'https://test.bc.org.ar',\n",
        "    'Connection': 'keep-alive',\n",
        "}\n",
        "\n",
        "# Hacer la petición con los nuevos headers\n",
        "response2 = requests.get(url, params=params, headers=headers)\n",
        "\n",
        "print(f\"Status Code: {response2.status_code}\")\n",
        "print(f\"Tamaño de respuesta: {len(response2.content)} bytes\")\n",
        "\n",
        "if response2.status_code == 200:\n",
        "    print(\"Funcionó!\")\n",
        "else:\n",
        "    print(f\"Todavía {response2.status_code}\")\n",
        "    print(f\"Contenido: {response2.text[:200]}\")\n"
      ]
    },
    {
      "cell_type": "markdown",
      "metadata": {},
      "source": [
        "Probar con una semana de datos\n",
        "\n",
        "Sabemos que funciona desde Postman. Intentemos con el rango de una semana como en la documentación:\n"
      ]
    },
    {
      "cell_type": "code",
      "execution_count": 15,
      "metadata": {},
      "outputs": [
        {
          "name": "stdout",
          "output_type": "stream",
          "text": [
            "Probando con una semana de datos...\n",
            "Status Code: 403\n",
            "Sigue bloqueado: 403\n"
          ]
        }
      ],
      "source": [
        "# Probar con una semana de datos (como en la documentación)\n",
        "params_semana = {\n",
        "    'FechaOperacionDesde': '2025-06-01',\n",
        "    'FechaOperacionHasta': '2025-06-06',\n",
        "    'IDTipoCondicionPago': 3  # Contra entrega\n",
        "}\n",
        "\n",
        "print(\"Probando con una semana de datos...\")\n",
        "response3 = requests.get(url, params=params_semana, headers=headers)\n",
        "\n",
        "print(f\"Status Code: {response3.status_code}\")\n",
        "\n",
        "if response3.status_code == 200:\n",
        "    print(\"Funcionó con una semana!\")\n",
        "    print(f\"Tamaño: {len(response3.content)} bytes\")\n",
        "else:\n",
        "    print(f\"Sigue bloqueado: {response3.status_code}\")\n"
      ]
    },
    {
      "cell_type": "markdown",
      "metadata": {},
      "source": [
        "Cloudflare nos bloquea desde Python pero no desde Postman\n",
        "Necesitamos usar 'cloudscraper' para bypassear Cloudflare"
      ]
    },
    {
      "cell_type": "markdown",
      "metadata": {},
      "source": [
        "### Usar cloudscraper para bypassear Cloudflare\n",
        "\n",
        "Cloudscraper es como requests pero bypasea automáticamente la protección de Cloudflare:\n"
      ]
    },
    {
      "cell_type": "code",
      "execution_count": 12,
      "metadata": {},
      "outputs": [
        {
          "name": "stdout",
          "output_type": "stream",
          "text": [
            "Intentando con cloudscraper...\n",
            "Status Code: 200\n",
            "Tamaño: 480302 bytes\n",
            "FUNCIONÓ con cloudscraper!\n"
          ]
        }
      ],
      "source": [
        "import cloudscraper\n",
        "\n",
        "# Crear un scraper (funciona igual que requests)\n",
        "scraper = cloudscraper.create_scraper()\n",
        "\n",
        "# Probar con una semana\n",
        "print(\"Intentando con cloudscraper...\")\n",
        "response_cs = scraper.get(url, params=params_semana)\n",
        "\n",
        "print(f\"Status Code: {response_cs.status_code}\")\n",
        "print(f\"Tamaño: {len(response_cs.content)} bytes\")\n",
        "\n",
        "if response_cs.status_code == 200:\n",
        "    print(\"FUNCIONÓ con cloudscraper!\")\n",
        "else:\n",
        "    print(f\"Error: {response_cs.status_code}\")\n"
      ]
    },
    {
      "cell_type": "markdown",
      "metadata": {},
      "source": [
        "### Ver el contenido del JSON\n",
        "\n",
        "Ahora que funciona, veamos qué datos nos devuelve:\n"
      ]
    },
    {
      "cell_type": "code",
      "execution_count": 13,
      "metadata": {},
      "outputs": [
        {
          "name": "stdout",
          "output_type": "stream",
          "text": [
            "Estructura del JSON:\n",
            "  - Claves principales: ['success', 'message', 'result']\n",
            "\n",
            "Success: True\n",
            "Message: exito\n",
            "\n",
            "Total de operaciones: 720\n"
          ]
        }
      ],
      "source": [
        "# Parsear el JSON\n",
        "datos = response_cs.json()\n",
        "\n",
        "# Ver la estructura principal\n",
        "print(\"Estructura del JSON:\")\n",
        "print(f\"  - Claves principales: {list(datos.keys())}\")\n",
        "print()\n",
        "\n",
        "# Ver si tiene el campo 'success' y 'message'\n",
        "if 'success' in datos:\n",
        "    print(f\"Success: {datos['success']}\")\n",
        "    print(f\"Message: {datos['message']}\")\n",
        "    print()\n",
        "\n",
        "# Ver cuántas operaciones devolvió\n",
        "if 'result' in datos and 'operaciones' in datos['result']:\n",
        "    operaciones = datos['result']['operaciones']\n",
        "    print(f\"Total de operaciones: {len(operaciones)}\")\n",
        "else:\n",
        "    print(\"No se encontró el campo 'operaciones'\")\n",
        "    print(f\"Contenido completo: {datos}\")\n"
      ]
    },
    {
      "cell_type": "markdown",
      "metadata": {},
      "source": [
        "## Guardar los datos en JSON\n",
        "\n",
        "Guardemos los datos en un archivo para poder trabajar con ellos:\n"
      ]
    },
    {
      "cell_type": "code",
      "execution_count": 16,
      "metadata": {},
      "outputs": [
        {
          "name": "stdout",
          "output_type": "stream",
          "text": [
            "Datos guardados en: ../data/raw/operaciones_semana_2025-06-01_2025-06-06.json\n",
            "Total de operaciones guardadas: 720\n"
          ]
        }
      ],
      "source": [
        "import os\n",
        "\n",
        "# Crear directorio si no existe\n",
        "os.makedirs('../data/raw', exist_ok=True)\n",
        "\n",
        "# Guardar los datos completos\n",
        "output_file = '../data/raw/operaciones_semana_2025-06-01_2025-06-06.json'\n",
        "\n",
        "with open(output_file, 'w', encoding='utf-8') as f:\n",
        "    json.dump(datos, f, indent=2, ensure_ascii=False)\n",
        "\n",
        "print(f\"Datos guardados en: {output_file}\")\n",
        "print(f\"Total de operaciones guardadas: {len(operaciones)}\")\n"
      ]
    },
    {
      "cell_type": "markdown",
      "metadata": {},
      "source": [
        "### Descargar las 3 semanas anteriores:\n"
      ]
    },
    {
      "cell_type": "code",
      "execution_count": 18,
      "metadata": {},
      "outputs": [
        {
          "name": "stdout",
          "output_type": "stream",
          "text": [
            "\n",
            "Descargando: 2025-05-25 a 2025-05-31...\n",
            "  OK - 2243 operaciones guardadas\n",
            "\n",
            "Descargando: 2025-05-18 a 2025-05-24...\n",
            "  OK - 2261 operaciones guardadas\n",
            "\n",
            "Descargando: 2025-05-11 a 2025-05-17...\n",
            "  OK - 2164 operaciones guardadas\n",
            "\n",
            "Descarga completa!\n"
          ]
        }
      ],
      "source": [
        "from datetime import datetime, timedelta\n",
        "import time\n",
        "\n",
        "# Definir las semanas a descargar (anteriores a la que ya tenemos)\n",
        "semanas = [\n",
        "    ('2025-05-25', '2025-05-31'),  # Semana anterior\n",
        "    ('2025-05-18', '2025-05-24'),  # 2 semanas atras\n",
        "    ('2025-05-11', '2025-05-17'),  # 3 semanas atras\n",
        "]\n",
        "\n",
        "for fecha_desde, fecha_hasta in semanas:\n",
        "    print(f\"\\nDescargando: {fecha_desde} a {fecha_hasta}...\")\n",
        "    \n",
        "    # Parametros para esta semana\n",
        "    params = {\n",
        "        'FechaOperacionDesde': fecha_desde,\n",
        "        'FechaOperacionHasta': fecha_hasta,\n",
        "        'IDTipoCondicionPago': 3\n",
        "    }\n",
        "    \n",
        "    # Hacer la peticion\n",
        "    response = scraper.get(url, params=params)\n",
        "    \n",
        "    if response.status_code == 200:\n",
        "        datos_semana = response.json()\n",
        "        num_ops = len(datos_semana['result']['operaciones'])\n",
        "        \n",
        "        # Guardar archivo\n",
        "        filename = f'../data/raw/operaciones_semana_{fecha_desde}_{fecha_hasta}.json'\n",
        "        with open(filename, 'w', encoding='utf-8') as f:\n",
        "            json.dump(datos_semana, f, indent=2, ensure_ascii=False)\n",
        "        \n",
        "        print(f\"  OK - {num_ops} operaciones guardadas\")\n",
        "    else:\n",
        "        print(f\"  ERROR - Status {response.status_code}\")\n",
        "    \n",
        "    # Esperar un poco entre peticiones para no saturar el servidor\n",
        "    time.sleep(2)\n",
        "\n",
        "print(\"\\nDescarga completa!\")\n"
      ]
    },
    {
      "cell_type": "markdown",
      "metadata": {},
      "source": [
        "### Descargar 2 semanas más anteriores:\n"
      ]
    },
    {
      "cell_type": "code",
      "execution_count": 21,
      "metadata": {},
      "outputs": [
        {
          "name": "stdout",
          "output_type": "stream",
          "text": [
            "\n",
            "Descargando: 2025-05-04 a 2025-05-10...\n",
            "  OK - 2144 operaciones guardadas\n",
            "\n",
            "Descargando: 2025-04-27 a 2025-05-03...\n",
            "  OK - 1478 operaciones guardadas\n",
            "\n",
            "Descarga completa!\n"
          ]
        }
      ],
      "source": [
        "# 2 semanas mas anteriores\n",
        "semanas_extra = [\n",
        "    ('2025-05-04', '2025-05-10'),  # 4 semanas atras\n",
        "    ('2025-04-27', '2025-05-03'),  # 5 semanas atras\n",
        "]\n",
        "\n",
        "for fecha_desde, fecha_hasta in semanas_extra:\n",
        "    print(f\"\\nDescargando: {fecha_desde} a {fecha_hasta}...\")\n",
        "    \n",
        "    params = {\n",
        "        'FechaOperacionDesde': fecha_desde,\n",
        "        'FechaOperacionHasta': fecha_hasta,\n",
        "        'IDTipoCondicionPago': 3\n",
        "    }\n",
        "    \n",
        "    response = scraper.get(url, params=params)\n",
        "    \n",
        "    if response.status_code == 200:\n",
        "        datos_semana = response.json()\n",
        "        num_ops = len(datos_semana['result']['operaciones'])\n",
        "        \n",
        "        filename = f'../data/raw/operaciones_semana_{fecha_desde}_{fecha_hasta}.json'\n",
        "        with open(filename, 'w', encoding='utf-8') as f:\n",
        "            json.dump(datos_semana, f, indent=2, ensure_ascii=False)\n",
        "        \n",
        "        print(f\"  OK - {num_ops} operaciones guardadas\")\n",
        "    else:\n",
        "        print(f\"  ERROR - Status {response.status_code}\")\n",
        "    \n",
        "    time.sleep(2)\n",
        "\n",
        "print(\"\\nDescarga completa!\")\n"
      ]
    },
    {
      "cell_type": "markdown",
      "metadata": {},
      "source": [
        "### Ver una operacion de ejemplo\n",
        "\n",
        "Veamos los campos de una operacion para entender que datos tenemos:\n"
      ]
    },
    {
      "cell_type": "code",
      "execution_count": 22,
      "metadata": {},
      "outputs": [
        {
          "name": "stdout",
          "output_type": "stream",
          "text": [
            "Primera operacion:\n",
            "{\n",
            "  \"fechaOperacion\": \"2025-06-03T12:59:42.993\",\n",
            "  \"fechaConcertacion\": \"2025-05-09T00:00:00\",\n",
            "  \"tipoOperacion\": \"Fijación\",\n",
            "  \"tipoModalidad\": \"Compraventa\",\n",
            "  \"tipoOiv\": \"Fijar Precio/Prec. Cam.\",\n",
            "  \"grano\": \"MAIZ\",\n",
            "  \"volumenTN\": \"250.00\",\n",
            "  \"condicionCalidad\": \"Cámara\",\n",
            "  \"condicionCalidadAuxiliar\": \"\",\n",
            "  \"procedenciaProvincia\": \"SANTA FE\",\n",
            "  \"procedenciaLocalidad\": \"LUIS PALACIOS\",\n",
            "  \"simboloPrecioPorTN\": \"$\",\n",
            "  \"precioTN\": \"205000.00\",\n",
            "  \"lugarEntrega\": \"Rosario S/En destino\",\n",
            "  \"fechaEntregaDesde\": \"2025-05-09T00:00:00\",\n",
            "  \"fechaEntregaHasta\": \"2025-05-20T00:00:00\",\n",
            "  \"condicionPago\": \"A plazo\",\n",
            "  \"esDestinoFinal\": \"SI\",\n",
            "  \"cosecha\": \"COSECHA 24/25\",\n",
            "  \"numeroOperacionInstancia\": \"3\",\n",
            "  \"nroOperacion\": \"2118370255\",\n",
            "  \"esUltimaInstancia\": \"Si\"\n",
            "}\n"
          ]
        }
      ],
      "source": [
        "# Ver la primera operacion\n",
        "primera_op = operaciones[0]\n",
        "\n",
        "print(\"Primera operacion:\")\n",
        "print(json.dumps(primera_op, indent=2, ensure_ascii=False))\n"
      ]
    },
    {
      "cell_type": "code",
      "execution_count": null,
      "metadata": {},
      "outputs": [],
      "source": []
    }
  ],
  "metadata": {
    "kernelspec": {
      "display_name": ".venv",
      "language": "python",
      "name": "python3"
    },
    "language_info": {
      "codemirror_mode": {
        "name": "ipython",
        "version": 3
      },
      "file_extension": ".py",
      "mimetype": "text/x-python",
      "name": "python",
      "nbconvert_exporter": "python",
      "pygments_lexer": "ipython3",
      "version": "3.11.13"
    }
  },
  "nbformat": 4,
  "nbformat_minor": 2
}
